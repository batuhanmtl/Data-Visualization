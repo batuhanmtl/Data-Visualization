{
 "cells": [
  {
   "cell_type": "markdown",
   "metadata": {
    "pycharm": {
     "name": "#%% md\n"
    }
   },
   "source": [
    "For the graphs we will draw, we will first need the pyplot subpackage in the matplotlib package. First we need to import this package.\n",
    "For convenience it is usually exported as plt for the matplotlib.pyplot package.\n",
    "\n",
    "In the example below, let's draw a line graph of Turkey's economic growth rates between 1999 and 2016."
   ]
  },
  {
   "cell_type": "code",
   "execution_count": null,
   "metadata": {
    "pycharm": {
     "is_executing": true,
     "name": "#%%\n"
    }
   },
   "outputs": [],
   "source": [
    "import matplotlib.pyplot as plt\n",
    "import numpy as np\n",
    "\n",
    "years = np.arange(1999,2017)\n",
    "\n",
    "growth = [-3.4,6.6,-6,6.4,5.6,9.6,9,7.1,5,0.8,-4.7,8.5,11.1,4.8,8.5,5.2,6.1,3.2]\n",
    "\n",
    "plt.plot(years,growth)\n",
    "plt.xlabel(\"Years\")\n",
    "plt.ylabel(\"Growth\")\n",
    "plt.title(\"Turkey's Growth Rates (1999-2016)\")\n",
    "plt.show()"
   ]
  },
  {
   "cell_type": "code",
   "execution_count": null,
   "metadata": {
    "pycharm": {
     "name": "#%%\n"
    }
   },
   "outputs": [],
   "source": []
  }
 ],
 "metadata": {
  "kernelspec": {
   "display_name": "Python 3 (ipykernel)",
   "language": "python",
   "name": "python3"
  },
  "language_info": {
   "codemirror_mode": {
    "name": "ipython",
    "version": 3
   },
   "file_extension": ".py",
   "mimetype": "text/x-python",
   "name": "python",
   "nbconvert_exporter": "python",
   "pygments_lexer": "ipython3",
   "version": "3.10.4"
  }
 },
 "nbformat": 4,
 "nbformat_minor": 1
}
